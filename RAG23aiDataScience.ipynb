{
 "cells": [
  {
   "cell_type": "code",
   "execution_count": null,
   "id": "38ab8e60-ae70-40ff-bba6-18012c14e3e5",
   "metadata": {
    "tags": []
   },
   "outputs": [],
   "source": [
    "# パブリック・インターネット・アクセスを有効にします\n",
    "import requests\n",
    "response = requests.get(\"https://oracle.com\")\n",
    "assert response.status_code==200, \"Internet connection failed\""
   ]
  },
  {
   "cell_type": "code",
   "execution_count": null,
   "id": "a5bb0d9d-2fcc-42d1-95ab-bd6f303cf681",
   "metadata": {},
   "outputs": [],
   "source": [
    "# pip自体をアップデートさせます\n",
    "!pip install -qU --upgrade pip"
   ]
  },
  {
   "cell_type": "code",
   "execution_count": null,
   "id": "3fc4a9fb-96b2-4f87-ba07-c3553564a605",
   "metadata": {},
   "outputs": [],
   "source": [
    "# 必要なライブラリをまとめてインストールします\n",
    "!pip install -qU langchain langchain-community pypdf datapane==0.17.0 pandas==1.4.0 oracledb oci oci-cli \n",
    "\n",
    "# まとめてインストールできない場合(依存関係に問題がある場合)は、個別にインストールします\n",
    "# pip install -qU langchain\n",
    "# pip install -qU langchain-community\n",
    "# pip install -qU pypdf\n",
    "# pip install -qU sktime==0.24.0\n",
    "# pip install -qU datapane==0.17.0\n",
    "# pip install -qU pandas==1.4.0\n",
    "# pip install -qU oracledb\n",
    "# pip install -qU oci\n",
    "# pip install -qU oci-cli"
   ]
  },
  {
   "cell_type": "code",
   "execution_count": null,
   "id": "8e158892-dbb2-47f4-9ad2-814de4ef1b74",
   "metadata": {},
   "outputs": [],
   "source": [
    "import os\n",
    "\n",
    "# PDFが存在するか確認します\n",
    "pdf_path = \"/home/datascience/tmp/SS_CEO_Message.pdf\"\n",
    "if os.path.exists(pdf_path):\n",
    "    print(\"PDF exists\")\n",
    "else:\n",
    "    print(\"PDF does not exist\")"
   ]
  },
  {
   "cell_type": "code",
   "execution_count": null,
   "id": "fe29ab45-838d-4a29-8dae-34c3c535edde",
   "metadata": {},
   "outputs": [],
   "source": [
    "import oracledb\n",
    "\n",
    "# 利用するBaseDBに接続します。接続が成功した場合は、「Connection successful!」と出力されます\n",
    "oracledb.init_oracle_client()\n",
    "\n",
    "username = \"docuser\"\n",
    "password = \"WelCome123#123#\"\n",
    "dsn = \"<BaseDBのパブリックIPアドレス>:1521/<PDBの接続文字列>\"\n",
    "\n",
    "try:\n",
    "    connection = oracledb.connect(user=username, password=password, dsn=dsn)\n",
    "    print(\"Connection successful!\")\n",
    "except oracledb.DatabaseError as e:\n",
    "    error, = e.args\n",
    "    print(f\"Database connection faild: {error.code} - {error.masege}\")\n",
    "except Exception as e:\n",
    "    print(f\"Connection failed: {str(e)}\")"
   ]
  },
  {
   "cell_type": "code",
   "execution_count": null,
   "id": "05015d1c-0c09-45be-b634-b6ab1783e59f",
   "metadata": {},
   "outputs": [],
   "source": [
    "from langchain.document_loaders import PyPDFLoader\n",
    "\n",
    "# 利用するPDFファイルのテキストをロードします\n",
    "loader = PyPDFLoader(\"/home/datascience/tmp/SS_CEO_Message.pdf\")\n",
    "documents1 = loader.load_and_split()\n",
    "print(documents1)"
   ]
  },
  {
   "cell_type": "code",
   "execution_count": null,
   "id": "d8628b3a-9ed3-45f5-b85e-5dacc55b230d",
   "metadata": {},
   "outputs": [],
   "source": [
    "from langchain.text_splitter import CharacterTextSplitter\n",
    "\n",
    "# テキストを任意のサイズに分割します\n",
    "text_splitter = CharacterTextSplitter(separator=\"。\", chunk_size=200, chunk_overlap=10)\n",
    "docs1 = text_splitter.split_documents(documents1)\n",
    "print(docs1)"
   ]
  },
  {
   "cell_type": "code",
   "execution_count": null,
   "id": "8ca7db1c-2d0d-4203-a489-fb2c447cdd9c",
   "metadata": {},
   "outputs": [],
   "source": [
    "import pandas as pd\n",
    "\n",
    "# 分割したテキストを整理します\n",
    "contents = []\n",
    "for doc in docs1:\n",
    "    contents.append(doc.page_content)\n",
    "pd.DataFrame(contents)"
   ]
  },
  {
   "cell_type": "code",
   "execution_count": null,
   "id": "17f70156-a3a2-4c53-827c-b340dbeb0171",
   "metadata": {},
   "outputs": [],
   "source": [
    "# 必要なライブラリをimportします\n",
    "from langchain_community.vectorstores import oraclevs\n",
    "from langchain_community.vectorstores.oraclevs import OracleVS\n",
    "from langchain_community.vectorstores.utils import DistanceStrategy\n",
    "from langchain_core.documents import Document\n",
    "from langchain_community.embeddings import OCIGenAIEmbeddings"
   ]
  },
  {
   "cell_type": "code",
   "execution_count": null,
   "id": "39217bc3",
   "metadata": {},
   "outputs": [],
   "source": [
    "# 分割したテキストを埋め込みモデル(OCI Generative AI Serviceのembed-multilingual-v3.0)でベクトルに変換します\n",
    "embeddings = OCIGenAIEmbeddings(\n",
    "    model_id=\"cohere.embed-multilingual-v3.0\",\n",
    "    service_endpoint=\"https://inference.generativeai.us-chicago-1.oci.oraclecloud.com\",\n",
    "    compartment_id=\"<コンパートメントOCID>\"\n",
    ")"
   ]
  },
  {
   "cell_type": "code",
   "execution_count": null,
   "id": "6c76cfed",
   "metadata": {},
   "outputs": [],
   "source": [
    "# ベクトル変換したテキストをベクトル・データベースにロードします\n",
    "vector_store_dot = OracleVS.from_documents(\n",
    "    docs1, # 分割済みのテキスト\n",
    "    embeddings, # 定義済の埋め込みモデル\n",
    "    client=connection, # 利用するBaseDBデータベースとのconnectionオブジェクト\n",
    "    table_name=\"doc_table_ss\", # 新規作成する表の名前を指定\n",
    "    distance_strategy=DistanceStrategy.DOT_PRODUCT, # ベクトル検索時に使う距離計算の方法\n",
    ")"
   ]
  },
  {
   "cell_type": "code",
   "execution_count": null,
   "id": "ba7988ff",
   "metadata": {},
   "outputs": [],
   "source": [
    "# 索引を作成します\n",
    "oraclevs.create_index(connection, vector_store_dot, params={\"idx_name\": \"SS\", \"idx_type\": \"IVF\"})"
   ]
  },
  {
   "cell_type": "code",
   "execution_count": null,
   "id": "284822a6",
   "metadata": {},
   "outputs": [],
   "source": [
    "from langchain_core.prompts import ChatPromptTemplate\n",
    "from langchain_core.messages import AIMessage, HumanMessage, SystemMessage\n",
    "\n",
    "# プロンプトのテンプレートを作成します\n",
    "template = \"\"\"contextに従って回答してください:\n",
    "{context}\n",
    "\n",
    "質問: {question}\n",
    "\"\"\"\n",
    "\n",
    "prompt = ChatPromptTemplate.from_template(template)"
   ]
  },
  {
   "cell_type": "code",
   "execution_count": null,
   "id": "449d7c59",
   "metadata": {},
   "outputs": [],
   "source": [
    "from langchain_community.chat_models.oci_generative_ai import ChatOCIGenAI\n",
    "\n",
    "# テキスト生成モデルを指定します\n",
    "llm = ChatOCIGenAI(\n",
    "    model_id=\"cohere.command-r-plus\", # 他のモデルでも可能\n",
    "    service_endpoint=\"https://inference.generativeai.us-chicago-1.oci.oraclecloud.com\",\n",
    "    compartment_id=\"<コンパートメントOCID>\",\n",
    "    model_kwargs={\"temperature\": 0.7, \"max_tokens\": 500},\n",
    ")"
   ]
  },
  {
   "cell_type": "code",
   "execution_count": null,
   "id": "80cadff5",
   "metadata": {},
   "outputs": [],
   "source": [
    "# ベクトル検索を実行するベクトルデータベースを定義します\n",
    "retriever = vector_store_dot.as_retriever()"
   ]
  },
  {
   "cell_type": "code",
   "execution_count": null,
   "id": "bbcd9ea0",
   "metadata": {},
   "outputs": [],
   "source": [
    "from langchain.schema.runnable import RunnablePassthrough\n",
    "from langchain.schema.output_parser import StrOutputParser\n",
    "\n",
    "# 今まで定義したものをChain(RAG構成)として繋ぎます\n",
    "chain = (\n",
    "    {\"context\": retriever, \"question\": RunnablePassthrough()}\n",
    "    | prompt\n",
    "    | llm\n",
    "    | StrOutputParser()\n",
    ")"
   ]
  },
  {
   "cell_type": "code",
   "execution_count": null,
   "id": "e673a526",
   "metadata": {},
   "outputs": [],
   "source": [
    "# 定義したChain(RAG構成)を利用して、問い合わせます\n",
    "print(chain.invoke(\"スマートスタイルの社長は誰ですか?\"))\n",
    "print(chain.invoke(\"スマートスタイルの創業はいつですか?\"))\n",
    "print(chain.invoke(\"スマートスタイルの専門性は何ですか?\"))\n",
    "print(chain.invoke(\"スマートスタイルのコーポレートビジョンはなんですか?\"))"
   ]
  },
  {
   "cell_type": "code",
   "execution_count": null,
   "id": "e1979735",
   "metadata": {},
   "outputs": [],
   "source": [
    "# Chainを利用しない(非RAG構成)で問い合わせます\n",
    "response1 = llm.invoke(\"スマートスタイルの社長は誰ですか?\")\n",
    "print(response1.content) \n",
    "response2 = llm.invoke(\"スマートスタイルの創業はいつですか?\")\n",
    "print(response2.content) \n",
    "response3 = llm.invoke(\"スマートスタイルの専門性は何ですか?\")\n",
    "print(response3.content) \n",
    "response4 = llm.invoke(\"スマートスタイルのコーポレートビジョンはなんですか?\")\n",
    "print(response4.content) "
   ]
  }
 ],
 "metadata": {
  "kernelspec": {
   "display_name": "Python [conda env:forecast_p310_cpu_x86_64_v1]",
   "language": "python",
   "name": "conda-env-forecast_p310_cpu_x86_64_v1-py"
  },
  "language_info": {
   "codemirror_mode": {
    "name": "ipython",
    "version": 3
   },
   "file_extension": ".py",
   "mimetype": "text/x-python",
   "name": "python",
   "nbconvert_exporter": "python",
   "pygments_lexer": "ipython3",
   "version": "3.10.14"
  }
 },
 "nbformat": 4,
 "nbformat_minor": 5
}
